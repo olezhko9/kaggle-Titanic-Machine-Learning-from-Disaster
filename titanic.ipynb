{
 "cells": [
  {
   "cell_type": "code",
   "execution_count": 1,
   "metadata": {
    "collapsed": true
   },
   "outputs": [],
   "source": [
    "import pandas as pd\n",
    "import numpy as np\n",
    "import seaborn as sns\n",
    "import matplotlib.pyplot as plt\n",
    "from sklearn.ensemble import RandomForestClassifier\n",
    "from sklearn.model_selection import KFold\n",
    "from sklearn.model_selection import cross_val_score\n",
    "from sklearn.model_selection import GridSearchCV\n",
    "import warnings\n",
    "\n",
    "warnings.filterwarnings(\"ignore\")"
   ]
  },
  {
   "cell_type": "code",
   "execution_count": 2,
   "metadata": {},
   "outputs": [],
   "source": [
    "train = pd.read_csv(\"train.csv\")\n",
    "test = pd.read_csv(\"test.csv\")\n",
    "train_test_data = [train, test]\n",
    "\n",
    "def barplot(x_name, dataframe):\n",
    "    ax = sns.barplot(x=x_name, y='Survived', data=dataframe)\n",
    "    plt.show()"
   ]
  },
  {
   "cell_type": "code",
   "execution_count": 3,
   "metadata": {},
   "outputs": [
    {
     "data": {
      "image/png": "[encoded data removed]",
      "text/plain": [
       "<Figure size 432x288 with 1 Axes>"
      ]
     },
     "metadata": {},
     "output_type": "display_data"
    }
   ],
   "source": [
    "barplot('Pclass', train)"
   ]
  },
  {
   "cell_type": "code",
   "execution_count": 4,
   "metadata": {},
   "outputs": [
    {
     "data": {
      "image/png": "[encoded data removed]",
      "text/plain": [
       "<Figure size 432x288 with 1 Axes>"
      ]
     },
     "metadata": {},
     "output_type": "display_data"
    }
   ],
   "source": [
    "barplot('Embarked', train)"
   ]
  },
  {
   "cell_type": "code",
   "execution_count": 5,
   "metadata": {},
   "outputs": [
    {
     "data": {
      "image/png": "[encoded data removed]",
      "text/plain": [
       "<Figure size 432x288 with 1 Axes>"
      ]
     },
     "metadata": {},
     "output_type": "display_data"
    }
   ],
   "source": [
    "barplot('Sex', train)"
   ]
  },
  {
   "cell_type": "code",
   "execution_count": 6,
   "metadata": {},
   "outputs": [
    {
     "data": {
      "image/png": "[encoded data removed]",
      "text/plain": [
       "<Figure size 720x288 with 2 Axes>"
      ]
     },
     "metadata": {},
     "output_type": "display_data"
    }
   ],
   "source": [
    "fig, axes = plt.subplots(nrows=1, ncols=2, figsize=(10, 4))\n",
    "axid = 0\n",
    "for sex in ['female', 'male']:\n",
    "    for surv in [1, 0]:\n",
    "        ax = sns.distplot(train[(train['Sex'] == sex) & (train['Survived'] == surv)].Age.dropna(),\n",
    "                          bins=18, label=str(surv), ax=axes[axid], kde=False)\n",
    "    axid += 1\n",
    "    ax.legend()\n",
    "    ax.set_title(sex)\n",
    "plt.show()"
   ]
  },
  {
   "cell_type": "code",
   "execution_count": 7,
   "metadata": {},
   "outputs": [
    {
     "name": "stdout",
     "output_type": "stream",
     "text": [
      "Cabin       687\n",
      "Age         177\n",
      "Embarked      2\n",
      "Fare          0\n",
      "Ticket        0\n",
      "dtype: int64\n"
     ]
    }
   ],
   "source": [
    "total = train.isnull().sum().sort_values(ascending=False)\n",
    "print(total.head(5))"
   ]
  },
  {
   "cell_type": "code",
   "execution_count": 8,
   "metadata": {},
   "outputs": [
    {
     "name": "stdout",
     "output_type": "stream",
     "text": [
      "Mr          757\n",
      "Miss        260\n",
      "Mrs         197\n",
      "Master       61\n",
      "Dr            8\n",
      "Rev           8\n",
      "Col           4\n",
      "Ms            2\n",
      "Mlle          2\n",
      "Major         2\n",
      "Countess      1\n",
      "Dona          1\n",
      "Jonkheer      1\n",
      "Sir           1\n",
      "Capt          1\n",
      "Mme           1\n",
      "Lady          1\n",
      "Don           1\n",
      "Name: Title, dtype: int64\n"
     ]
    }
   ],
   "source": [
    "### Name\n",
    "all_data = pd.concat([train, test])\n",
    "all_data['Title'] = all_data['Name'].str.extract(' ([A-Za-z]+)\\.', expand=False)\n",
    "print(all_data['Title'].value_counts())\n",
    "\n",
    "titles = {\"Mr\": 1, \"Miss\": 2, \"Mrs\": 3, \"Master\": 4, \"Other\": 5}\n",
    "\n",
    "for dataset in train_test_data:\n",
    "    dataset['Title'] = dataset.Name.str.extract(' ([A-Za-z]+)\\.', expand=False)\n",
    "    dataset['Title'] = dataset['Title'].replace(['Lady', 'Countess', 'Capt', 'Col', 'Don', 'Dr', 'Major', 'Rev', 'Sir',\n",
    "                                                 'Jonkheer', 'Dona', 'Mlle', 'Ms', 'Mme'], 'Other')\n",
    "    dataset['Title'] = dataset['Title'].map(titles)"
   ]
  },
  {
   "cell_type": "code",
   "execution_count": 9,
   "metadata": {},
   "outputs": [],
   "source": [
    "### Sex\n",
    "sex_mapping = {\"male\": 0, \"female\": 1}\n",
    "for dataset in train_test_data:\n",
    "    dataset['Sex'] = dataset['Sex'].map(sex_mapping)"
   ]
  },
  {
   "cell_type": "code",
   "execution_count": 10,
   "metadata": {},
   "outputs": [
    {
     "name": "stdout",
     "output_type": "stream",
     "text": [
      "         AgeBand  Survived\n",
      "0  (-0.08, 16.0]  0.548077\n",
      "1   (16.0, 32.0]  0.328032\n",
      "2   (32.0, 48.0]  0.436275\n",
      "3   (48.0, 64.0]  0.434783\n",
      "4   (64.0, 80.0]  0.090909\n"
     ]
    }
   ],
   "source": [
    "### Age\n",
    "train[\"Age\"].fillna(train.groupby(\"Title\")[\"Age\"].transform(\"median\"), inplace=True)\n",
    "test[\"Age\"].fillna(test.groupby('Title')['Age'].transform(\"median\"), inplace=True)\n",
    "\n",
    "all_data = pd.concat([train, test])\n",
    "all_data['Age'] = all_data['Age'].astype(int)\n",
    "all_data['AgeBand'] = pd.cut(all_data['Age'], 5)\n",
    "print(all_data[['AgeBand', 'Survived']].groupby(['AgeBand'], as_index=False).mean().sort_values(by='AgeBand', ascending=True))"
   ]
  },
  {
   "cell_type": "code",
   "execution_count": 11,
   "metadata": {},
   "outputs": [
    {
     "data": {
      "image/png": "[encoded data removed]",
      "text/plain": [
       "<Figure size 1080x360 with 2 Axes>"
      ]
     },
     "metadata": {},
     "output_type": "display_data"
    }
   ],
   "source": [
    "for dataset in train_test_data:\n",
    "    dataset.loc[dataset['Age'] <= 16, 'Age'] = 0,\n",
    "    dataset.loc[(dataset['Age'] > 16) & (dataset['Age'] <= 32), 'Age'] = 1,\n",
    "    dataset.loc[(dataset['Age'] > 32) & (dataset['Age'] <= 48), 'Age'] = 2,\n",
    "    dataset.loc[(dataset['Age'] > 48) & (dataset['Age'] <= 64), 'Age'] = 3,\n",
    "    dataset.loc[dataset['Age'] > 64, 'Age'] = 4\n",
    "\n",
    "fig, (axis1,axis2) = plt.subplots(1, 2, figsize=(15, 5))\n",
    "sns.countplot(x='Age', data=train, ax=axis1)\n",
    "sns.countplot(x='Survived', hue=\"Age\", data=train, order=[1,0], ax=axis2)\n",
    "plt.show()"
   ]
  },
  {
   "cell_type": "code",
   "execution_count": 12,
   "metadata": {},
   "outputs": [
    {
     "name": "stdout",
     "output_type": "stream",
     "text": [
      "S    914\n",
      "C    270\n",
      "Q    123\n",
      "Name: Embarked, dtype: int64\n"
     ]
    }
   ],
   "source": [
    "### Embarked\n",
    "print(all_data['Embarked'].value_counts())\n",
    "embarked_mapping = {'S': 0, 'C': 1, 'Q': 2}\n",
    "\n",
    "for dataset in train_test_data:\n",
    "    dataset['Embarked'] = dataset['Embarked'].fillna('S')\n",
    "    dataset['Embarked'] = dataset['Embarked'].map(embarked_mapping)"
   ]
  },
  {
   "cell_type": "code",
   "execution_count": 13,
   "metadata": {},
   "outputs": [
    {
     "name": "stdout",
     "output_type": "stream",
     "text": [
      "             FareBand  Survived\n",
      "0   (-0.512, 128.082]  0.368113\n",
      "1  (128.082, 256.165]  0.724138\n",
      "2  (256.165, 384.247]  0.666667\n",
      "3  (384.247, 512.329]  1.000000\n"
     ]
    }
   ],
   "source": [
    "### Fare\n",
    "train[\"Fare\"].fillna(train.groupby(\"Pclass\")[\"Fare\"].transform(\"median\"), inplace=True)\n",
    "test[\"Fare\"].fillna(test.groupby(\"Pclass\")[\"Fare\"].transform(\"median\"), inplace=True)\n",
    "\n",
    "all_data = pd.concat([train, test])\n",
    "all_data['FareBand'] = pd.cut(all_data['Fare'], 4)\n",
    "print(all_data[['FareBand', 'Survived']].groupby(['FareBand'], as_index=False).mean().sort_values(by='FareBand', ascending=True))"
   ]
  },
  {
   "cell_type": "code",
   "execution_count": 14,
   "metadata": {},
   "outputs": [
    {
     "data": {
      "image/png": "[encoded data removed]",
      "text/plain": [
       "<Figure size 1080x360 with 2 Axes>"
      ]
     },
     "metadata": {},
     "output_type": "display_data"
    }
   ],
   "source": [
    "for dataset in train_test_data:\n",
    "    dataset.loc[dataset['Fare'] <= 7.896, 'Fare'] = 0,\n",
    "    dataset.loc[(dataset['Fare'] > 7.896) & (dataset['Fare'] <= 14.454), 'Fare'] = 1,\n",
    "    dataset.loc[(dataset['Fare'] > 14.454) & (dataset['Fare'] <= 31.275), 'Fare'] = 2,\n",
    "    dataset.loc[dataset['Fare'] >= 31.275, 'Fare'] = 3\n",
    "\n",
    "fig, (axis1, axis2) = plt.subplots(1, 2, figsize=(15, 5))\n",
    "sns.countplot(x='Fare', data=train, ax=axis1)\n",
    "sns.countplot(x='Survived', hue=\"Fare\", data=train, order=[1,0], ax=axis2)\n",
    "plt.show()"
   ]
  },
  {
   "cell_type": "code",
   "execution_count": 15,
   "metadata": {},
   "outputs": [
    {
     "name": "stdout",
     "output_type": "stream",
     "text": [
      "U    1014\n",
      "C      94\n",
      "B      65\n",
      "D      46\n",
      "E      41\n",
      "A      22\n",
      "F      21\n",
      "G       5\n",
      "T       1\n",
      "Name: Cabin, dtype: int64\n"
     ]
    }
   ],
   "source": [
    "### Cabin\n",
    "for dataset in train_test_data:\n",
    "    dataset['Cabin'] = dataset['Cabin'].str[:1]\n",
    "    dataset['Cabin'] = dataset['Cabin'].fillna(\"U\")\n",
    "\n",
    "all_data = pd.concat([train, test])\n",
    "print(all_data['Cabin'].value_counts())\n",
    "\n",
    "cabin_mapping = {\"A\": 1, \"B\": 2, \"C\": 3, \"D\": 4, \"E\": 5, \"F\": 6, \"G\": 7, \"T\": 8, \"U\": 8}\n",
    "for dataset in train_test_data:\n",
    "    dataset['Cabin'] = dataset['Cabin'].map(cabin_mapping)"
   ]
  },
  {
   "cell_type": "code",
   "execution_count": 16,
   "metadata": {},
   "outputs": [],
   "source": [
    "### Parch & SibSp\n",
    "for dataset in train_test_data:\n",
    "    dataset['Family'] = dataset[\"Parch\"] + dataset[\"SibSp\"] + 1\n",
    "    dataset['Family'].loc[dataset['Family'] > 1] = 1\n",
    "    dataset['Family'].loc[dataset['Family'] == 1] = 0"
   ]
  },
  {
   "cell_type": "code",
   "execution_count": 17,
   "metadata": {},
   "outputs": [],
   "source": [
    "features_drop = ['Name', 'Ticket', 'SibSp', 'Parch']\n",
    "train = train.drop(features_drop, axis=1)\n",
    "test = test.drop(features_drop, axis=1)\n",
    "train = train.drop(['PassengerId'], axis=1)\n",
    "\n",
    "train_X = train.drop('Survived', axis=1)\n",
    "train_Y = train['Survived']"
   ]
  },
  {
   "cell_type": "code",
   "execution_count": 18,
   "metadata": {},
   "outputs": [
    {
     "name": "stdout",
     "output_type": "stream",
     "text": [
      "Score of Model: 81.48\n"
     ]
    }
   ],
   "source": [
    "k_fold = KFold(n_splits=10, shuffle=True, random_state=0)\n",
    "rfc_simple = RandomForestClassifier(n_jobs=12)\n",
    "score = cross_val_score(rfc_simple, train_X, train_Y, cv=k_fold, n_jobs=12, scoring='accuracy')\n",
    "print(\"Score of Model:\", round(np.mean(score) * 100, 2))"
   ]
  },
  {
   "cell_type": "code",
   "execution_count": 21,
   "metadata": {},
   "outputs": [],
   "source": [
    "param_grid = {\"criterion\": [\"gini\", \"entropy\"],\n",
    "              \"min_samples_leaf\": [1, 5, 10, 25, 50, 70],\n",
    "              \"min_samples_split\": [2, 4, 10, 12, 16, 18, 25, 35],\n",
    "              \"n_estimators\": [100, 400, 700, 1000, 1500],\n",
    "              }\n",
    "\n",
    "rfc_boosting = RandomForestClassifier()\n",
    "clf = GridSearchCV(estimator=rfc_boosting, param_grid=param_grid)\n",
    "clf.fit(train_X, train_Y)\n",
    "best_params = clf.best_params_\n",
    "print(best_params)"
   ]
  },
  {
   "cell_type": "code",
   "execution_count": 22,
   "metadata": {},
   "outputs": [
    {
     "name": "stdout",
     "output_type": "stream",
     "text": [
      "Score of Model: 82.94\n"
     ]
    }
   ],
   "source": [
    "rfc_boosted = RandomForestClassifier(criterion='gini', min_samples_leaf=1, min_samples_split=16, n_estimators=400)\n",
    "score = cross_val_score(rfc_boosted, train_X, train_Y, cv=k_fold, n_jobs=12, scoring='accuracy')\n",
    "print(\"Score of Model:\", round(np.mean(score) * 100, 2))"
   ]
  },
  {
   "cell_type": "code",
   "execution_count": 23,
   "metadata": {},
   "outputs": [],
   "source": [
    "rfc_boosted.fit(train_X, train_Y)\n",
    "test_X = test.drop('PassengerId', axis=1)\n",
    "prediction = rfc_boosted.predict(test_X)"
   ]
  },
  {
   "cell_type": "code",
   "execution_count": 24,
   "metadata": {},
   "outputs": [],
   "source": [
    "submission = pd.DataFrame({\n",
    "    \"PassengerId\": test['PassengerId'],\n",
    "    \"Survived\": prediction\n",
    "})\n",
    "submission.to_csv(\"submission.csv\", index=False)\n"
   ]
  },
  {
   "cell_type": "code",
   "execution_count": null,
   "metadata": {},
   "outputs": [],
   "source": []
  }
 ],
 "metadata": {
  "kernelspec": {
   "display_name": "Python 3",
   "language": "python",
   "name": "python3"
  },
  "language_info": {
   "codemirror_mode": {
    "name": "ipython",
    "version": 3
   },
   "file_extension": ".py",
   "mimetype": "text/x-python",
   "name": "python",
   "nbconvert_exporter": "python",
   "pygments_lexer": "ipython3",
   "version": "3.7.0"
  }
 },
 "nbformat": 4,
 "nbformat_minor": 1
}
